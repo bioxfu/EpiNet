{
 "cells": [
  {
   "cell_type": "code",
   "execution_count": 1,
   "metadata": {},
   "outputs": [
    {
     "name": "stderr",
     "output_type": "stream",
     "text": [
      "Using TensorFlow backend.\n"
     ]
    }
   ],
   "source": [
    "import numpy as np\n",
    "import matplotlib.pyplot as plt\n",
    "from sklearn import metrics\n",
    "from keras.models import Sequential\n",
    "from keras.layers.core import Dense, Dropout, Activation, Flatten\n",
    "from keras.layers.convolutional import Conv1D, MaxPooling1D\n",
    "from keras.optimizers import Adam\n",
    "from keras.utils import np_utils"
   ]
  },
  {
   "cell_type": "code",
   "execution_count": 2,
   "metadata": {
    "collapsed": true
   },
   "outputs": [],
   "source": [
    "# define the ConvNet\n",
    "class EpiNet:\n",
    "    @staticmethod\n",
    "    def build(input_shape, classes):\n",
    "        model = Sequential()\n",
    "        # CONV => RELU => POOL => DROPOUT\n",
    "        model.add(Conv1D(50, kernel_size=5, padding='same', input_shape=input_shape))\n",
    "        model.add(Activation('relu'))\n",
    "        model.add(MaxPooling1D(pool_size=5, strides=1))\n",
    "        model.add(Dropout(0.5))\n",
    "        # Flatten => RELU layers\n",
    "        model.add(Flatten())\n",
    "        model.add(Dense(625))\n",
    "        model.add(Activation('relu'))\n",
    "        model.add(Dense(125))\n",
    "        model.add(Activation('relu'))\n",
    "        # a softmax classifier\n",
    "        model.add(Dense(classes))\n",
    "        model.add(Activation('softmax'))\n",
    "        return model"
   ]
  },
  {
   "cell_type": "code",
   "execution_count": 3,
   "metadata": {
    "collapsed": true
   },
   "outputs": [],
   "source": [
    "# set parameters\n",
    "NUM_EPOCH = 20\n",
    "BATCH_SIZE = 512\n",
    "VERBOSE = 1\n",
    "OPTIMIZER = Adam()\n",
    "VALIDATION_SPLIT = 0.2\n",
    "NUM_CLASSES = 2\n",
    "INPUT_X = 'Ovary/ovary_bin_signal.npy'\n",
    "INPUT_y = 'Ovary/ovary_gene_expr_binary_class.tsv'"
   ]
  },
  {
   "cell_type": "code",
   "execution_count": 4,
   "metadata": {
    "collapsed": true
   },
   "outputs": [],
   "source": [
    "# load data\n",
    "X = np.load(INPUT_X)\n",
    "y = np.genfromtxt(INPUT_y)"
   ]
  },
  {
   "cell_type": "code",
   "execution_count": 5,
   "metadata": {},
   "outputs": [
    {
     "name": "stdout",
     "output_type": "stream",
     "text": [
      "(51125, 7, 100)\n",
      "(51125,)\n"
     ]
    }
   ],
   "source": [
    "# remove the empty matrix\n",
    "with_signal = []\n",
    "for i in range(X.shape[0]):\n",
    "    if X[i,:,:].max() > 0:\n",
    "        with_signal.append(i)\n",
    "        \n",
    "X = X[with_signal,:,:]\n",
    "y = y[with_signal]\n",
    "print(X.shape)\n",
    "print(y.shape)\n",
    "\n",
    "INPUT_SHAPE = (X.shape[1], X.shape[2])"
   ]
  },
  {
   "cell_type": "code",
   "execution_count": 6,
   "metadata": {},
   "outputs": [],
   "source": [
    "# normalize matrix\n",
    "for i in range(X.shape[0]):\n",
    "    X[i,:,:] /= X[i,:,:].max()"
   ]
  },
  {
   "cell_type": "code",
   "execution_count": 7,
   "metadata": {},
   "outputs": [
    {
     "name": "stdout",
     "output_type": "stream",
     "text": [
      "(34083, 7, 100)\n",
      "(34083,)\n",
      "(17042, 7, 100)\n",
      "(17042,)\n"
     ]
    }
   ],
   "source": [
    "# randomly split the dataset into training and test subset\n",
    "np.random.seed(1234)\n",
    "rand_idx = np.random.permutation(X.shape[0])\n",
    "n = len(rand_idx) * 2/3\n",
    "y_train, y_test = np.split(y[rand_idx], [n])\n",
    "X_train, X_test = np.vsplit(X[rand_idx], [n])\n",
    "print(X_train.shape)\n",
    "print(y_train.shape)\n",
    "print(X_test.shape)\n",
    "print(y_test.shape)"
   ]
  },
  {
   "cell_type": "code",
   "execution_count": 8,
   "metadata": {
    "collapsed": true
   },
   "outputs": [],
   "source": [
    "# convert class vectors to binary class matrices\n",
    "y_train = np_utils.to_categorical(y_train, NUM_CLASSES)\n",
    "y_test = np_utils.to_categorical(y_test, NUM_CLASSES)"
   ]
  },
  {
   "cell_type": "code",
   "execution_count": 9,
   "metadata": {},
   "outputs": [
    {
     "name": "stdout",
     "output_type": "stream",
     "text": [
      "_________________________________________________________________\n",
      "Layer (type)                 Output Shape              Param #   \n",
      "=================================================================\n",
      "conv1d_1 (Conv1D)            (None, 7, 50)             25050     \n",
      "_________________________________________________________________\n",
      "activation_1 (Activation)    (None, 7, 50)             0         \n",
      "_________________________________________________________________\n",
      "max_pooling1d_1 (MaxPooling1 (None, 3, 50)             0         \n",
      "_________________________________________________________________\n",
      "dropout_1 (Dropout)          (None, 3, 50)             0         \n",
      "_________________________________________________________________\n",
      "flatten_1 (Flatten)          (None, 150)               0         \n",
      "_________________________________________________________________\n",
      "dense_1 (Dense)              (None, 625)               94375     \n",
      "_________________________________________________________________\n",
      "activation_2 (Activation)    (None, 625)               0         \n",
      "_________________________________________________________________\n",
      "dense_2 (Dense)              (None, 125)               78250     \n",
      "_________________________________________________________________\n",
      "activation_3 (Activation)    (None, 125)               0         \n",
      "_________________________________________________________________\n",
      "dense_3 (Dense)              (None, 2)                 252       \n",
      "_________________________________________________________________\n",
      "activation_4 (Activation)    (None, 2)                 0         \n",
      "=================================================================\n",
      "Total params: 197,927\n",
      "Trainable params: 197,927\n",
      "Non-trainable params: 0\n",
      "_________________________________________________________________\n"
     ]
    }
   ],
   "source": [
    "# initialize the optimizer and model\n",
    "model = EpiNet.build(input_shape=INPUT_SHAPE, classes=NUM_CLASSES)\n",
    "model.summary()"
   ]
  },
  {
   "cell_type": "code",
   "execution_count": 10,
   "metadata": {
    "collapsed": true
   },
   "outputs": [],
   "source": [
    "model.compile(loss='categorical_crossentropy', optimizer=OPTIMIZER, metrics=['accuracy'])"
   ]
  },
  {
   "cell_type": "code",
   "execution_count": 11,
   "metadata": {},
   "outputs": [
    {
     "name": "stdout",
     "output_type": "stream",
     "text": [
      "Train on 27266 samples, validate on 6817 samples\n",
      "Epoch 1/20\n",
      "27266/27266 [==============================] - 1s - loss: 0.5271 - acc: 0.7326 - val_loss: 0.4565 - val_acc: 0.7921\n",
      "Epoch 2/20\n",
      "27266/27266 [==============================] - 1s - loss: 0.4524 - acc: 0.7865 - val_loss: 0.4353 - val_acc: 0.7955\n",
      "Epoch 3/20\n",
      "27266/27266 [==============================] - 1s - loss: 0.4347 - acc: 0.7954 - val_loss: 0.4319 - val_acc: 0.7998\n",
      "Epoch 4/20\n",
      "27266/27266 [==============================] - 1s - loss: 0.4251 - acc: 0.8013 - val_loss: 0.4307 - val_acc: 0.8005\n",
      "Epoch 5/20\n",
      "27266/27266 [==============================] - 1s - loss: 0.4184 - acc: 0.8052 - val_loss: 0.4405 - val_acc: 0.7905\n",
      "Epoch 6/20\n",
      "27266/27266 [==============================] - 1s - loss: 0.4164 - acc: 0.8054 - val_loss: 0.4380 - val_acc: 0.7974\n",
      "Epoch 7/20\n",
      "27266/27266 [==============================] - 1s - loss: 0.4043 - acc: 0.8122 - val_loss: 0.4369 - val_acc: 0.7984\n",
      "Epoch 8/20\n",
      "27266/27266 [==============================] - 1s - loss: 0.4003 - acc: 0.8153 - val_loss: 0.4382 - val_acc: 0.7965\n",
      "Epoch 9/20\n",
      "27266/27266 [==============================] - 1s - loss: 0.3891 - acc: 0.8237 - val_loss: 0.4452 - val_acc: 0.7955\n",
      "Epoch 10/20\n",
      "27266/27266 [==============================] - 1s - loss: 0.3855 - acc: 0.8227 - val_loss: 0.4438 - val_acc: 0.7967\n",
      "Epoch 11/20\n",
      "27266/27266 [==============================] - 1s - loss: 0.3749 - acc: 0.8284 - val_loss: 0.4429 - val_acc: 0.7977\n",
      "Epoch 12/20\n",
      "27266/27266 [==============================] - 1s - loss: 0.3675 - acc: 0.8313 - val_loss: 0.4601 - val_acc: 0.7885\n",
      "Epoch 13/20\n",
      "27266/27266 [==============================] - 1s - loss: 0.3651 - acc: 0.8338 - val_loss: 0.4627 - val_acc: 0.7904\n",
      "Epoch 14/20\n",
      "27266/27266 [==============================] - 1s - loss: 0.3574 - acc: 0.8374 - val_loss: 0.4614 - val_acc: 0.7841\n",
      "Epoch 15/20\n",
      "27266/27266 [==============================] - 1s - loss: 0.3461 - acc: 0.8438 - val_loss: 0.4678 - val_acc: 0.7841\n",
      "Epoch 16/20\n",
      "27266/27266 [==============================] - 1s - loss: 0.3443 - acc: 0.8459 - val_loss: 0.4997 - val_acc: 0.7970\n",
      "Epoch 17/20\n",
      "27266/27266 [==============================] - 1s - loss: 0.3375 - acc: 0.8501 - val_loss: 0.5002 - val_acc: 0.7895\n",
      "Epoch 18/20\n",
      "27266/27266 [==============================] - 1s - loss: 0.3329 - acc: 0.8527 - val_loss: 0.4866 - val_acc: 0.7883\n",
      "Epoch 19/20\n",
      "27266/27266 [==============================] - 1s - loss: 0.3238 - acc: 0.8546 - val_loss: 0.5173 - val_acc: 0.7860\n",
      "Epoch 20/20\n",
      "27266/27266 [==============================] - 1s - loss: 0.3125 - acc: 0.8616 - val_loss: 0.4965 - val_acc: 0.7858\n"
     ]
    }
   ],
   "source": [
    "history = model.fit(X_train, y_train, batch_size=BATCH_SIZE, epochs=NUM_EPOCH, verbose=VERBOSE, validation_split=VALIDATION_SPLIT)"
   ]
  },
  {
   "cell_type": "code",
   "execution_count": 12,
   "metadata": {},
   "outputs": [
    {
     "name": "stdout",
     "output_type": "stream",
     "text": [
      "16512/17042 [============================>.] - ETA: 0s\n",
      "('Test accuracy:', 0.78089426121595895)\n"
     ]
    }
   ],
   "source": [
    "score = model.evaluate(X_test, y_test)\n",
    "print\n",
    "print('Test accuracy:', score[1])"
   ]
  },
  {
   "cell_type": "code",
   "execution_count": 13,
   "metadata": {},
   "outputs": [
    {
     "name": "stdout",
     "output_type": "stream",
     "text": [
      "('AUC:', 0.85752680752461763)\n"
     ]
    }
   ],
   "source": [
    "y_pred = model.predict(X_test)\n",
    "fpr, tpr, thresholds = metrics.roc_curve(y_test[:,0], y_pred[:,0])\n",
    "print('AUC:', metrics.auc(fpr, tpr))"
   ]
  },
  {
   "cell_type": "code",
   "execution_count": 14,
   "metadata": {},
   "outputs": [
    {
     "data": {
      "image/png": "[encoded data removed]",
      "text/plain": [
       "<matplotlib.figure.Figure at 0x7f9666788b10>"
      ]
     },
     "metadata": {},
     "output_type": "display_data"
    }
   ],
   "source": [
    "# summarize history for accuracy\n",
    "plt.plot(history.history['acc'])\n",
    "plt.plot(history.history['val_acc'])\n",
    "plt.title('model accuracy')\n",
    "plt.ylabel('accuracy')\n",
    "plt.xlabel('epoch')\n",
    "plt.legend(['train', 'test'], loc='upper left')\n",
    "plt.show()\n"
   ]
  },
  {
   "cell_type": "code",
   "execution_count": null,
   "metadata": {
    "collapsed": true
   },
   "outputs": [],
   "source": []
  }
 ],
 "metadata": {
  "kernelspec": {
   "display_name": "Python 2",
   "language": "python",
   "name": "python2"
  },
  "language_info": {
   "codemirror_mode": {
    "name": "ipython",
    "version": 2
   },
   "file_extension": ".py",
   "mimetype": "text/x-python",
   "name": "python",
   "nbconvert_exporter": "python",
   "pygments_lexer": "ipython2",
   "version": "2.7.12"
  }
 },
 "nbformat": 4,
 "nbformat_minor": 2
}
